{
 "cells": [
  {
   "cell_type": "raw",
   "metadata": {},
   "source": [
    "This it the code of Segnet semantic segmentation architecture with VGG-16 implemented with tensorflow by Aziza Zhanabatyrova.\n",
    "The code is not finished yet.\n",
    "It is developed as a part of the implementation for the master thesis.\n",
    "The model can be trained from scratch/ from a saved checkpoint/ using pre-trained weights.\n",
    "Th data is loaded into the memory partially, to avoid memory problem."
   ]
  },
  {
   "cell_type": "markdown",
   "metadata": {},
   "source": [
    "### Libraries"
   ]
  },
  {
   "cell_type": "code",
   "execution_count": 1,
   "metadata": {
    "collapsed": false
   },
   "outputs": [
    {
     "name": "stderr",
     "output_type": "stream",
     "text": [
      "Using TensorFlow backend.\n"
     ]
    }
   ],
   "source": [
    "import tensorflow as tf\n",
    "import cv2\n",
    "import matplotlib.pyplot as plt\n",
    "import numpy as np\n",
    "from unpooling import unpool_layer2x2_batch\n",
    "import math\n",
    "import sys\n",
    "from tensorflow.python.framework import ops\n",
    "from __future__ import absolute_import\n",
    "from __future__ import print_function\n",
    "from os import listdir\n",
    "from os.path import isfile, join\n",
    "from keras.applications import imagenet_utils\n",
    "from keras.utils import np_utils\n",
    "from keras.layers import Input\n",
    "from keras.layers.core import Activation, Flatten, Reshape\n",
    "from keras.layers.convolutional import Conv2D, MaxPooling2D, UpSampling2D\n",
    "from keras.layers.normalization import BatchNormalization\n",
    "from keras.models import Model"
   ]
  },
  {
   "cell_type": "markdown",
   "metadata": {},
   "source": [
    "### Functions"
   ]
  },
  {
   "cell_type": "code",
   "execution_count": 2,
   "metadata": {
    "collapsed": true
   },
   "outputs": [],
   "source": [
    "def load_minibatch(full_path_unlabeled_files, full_path_labeled_files, k, minibatch_size):\n",
    "\n",
    "    num_files = len(full_path_labeled_files)\n",
    "    \n",
    "    if (k + 1)*minibatch_size > num_files:\n",
    "        num_files_to_load = num_files - k*minibatch_size\n",
    "    else:\n",
    "        num_files_to_load = minibatch_size\n",
    "                             \n",
    "    # Allocate array for unlabeled minibatch images\n",
    "    minibatch_X = np.empty([num_files_to_load, 360, 480, 3], dtype = 'uint8')\n",
    "\n",
    "    # Allocate array for labeled minibatch images\n",
    "    minibatch_Y = np.empty([num_files_to_load, 360, 480], dtype = 'uint8')\n",
    "    \n",
    "    i = 0\n",
    "    for n in range(k*minibatch_size, k*minibatch_size + num_files_to_load):\n",
    "        minibatch_X[i] = cv2.imread(full_path_unlabeled_files[n], 1)\n",
    "        minibatch_Y[i] = cv2.imread(full_path_labeled_files[n], 0)\n",
    "        i = i + 1\n",
    "\n",
    "    # Preprocess unlabeled images\n",
    "    minibatch_X = minibatch_X.astype('float32')\n",
    "    processed_minibatch_X = imagenet_utils.preprocess_input(minibatch_X)\n",
    "\n",
    "    # Preprocess labeled images\n",
    "    processed_minibatch_Y = np_utils.to_categorical(minibatch_Y.flatten(), 12)\n",
    "    processed_minibatch_Y = processed_minibatch_Y.reshape((num_files_to_load, 360*480, 12))\n",
    "\n",
    "    return processed_minibatch_X, processed_minibatch_Y"
   ]
  },
  {
   "cell_type": "code",
   "execution_count": 3,
   "metadata": {
    "collapsed": true
   },
   "outputs": [],
   "source": [
    "def list_files(unlabeled_path, labeled_path):\n",
    "    \"\"\"\n",
    "    Solves memory error problem. \n",
    "    \"\"\"\n",
    "    \n",
    "    labeled_files = [f for f in listdir(labeled_path) if isfile(join(labeled_path,f))]\n",
    "    unlabeled_files = [f for f in listdir(unlabeled_path) if isfile(join(unlabeled_path,f))]\n",
    "\n",
    "    num_files = len(labeled_files)\n",
    "    \n",
    "    assert (num_files == len(unlabeled_files)), \"Different number of unlabeled and labeled files.\"\n",
    "        \n",
    "    # Shuffle\n",
    "    permutation = list(np.random.permutation(num_files))\n",
    "    \n",
    "    full_path_labeled_files = []\n",
    "    full_path_unlabeled_files = []\n",
    "    \n",
    "    for n in range(0, num_files):\n",
    "        full_path_labeled_files.append(join(labeled_path, labeled_files[permutation[n]]))\n",
    "        full_path_unlabeled_files.append(join(unlabeled_path, unlabeled_files[permutation[n]]))\n",
    "        \n",
    "\n",
    "    return full_path_unlabeled_files, full_path_labeled_files"
   ]
  },
  {
   "cell_type": "code",
   "execution_count": 4,
   "metadata": {
    "collapsed": true
   },
   "outputs": [],
   "source": [
    "def create_placeholders(n_H0, n_W0, n_C0, n_y): \n",
    "    \"\"\"\n",
    "    Creates the placeholders for the tensorflow session.\n",
    "    \n",
    "    Arguments:\n",
    "    n_H0 -- scalar, height of an input image\n",
    "    n_W0 -- scalar, width of an input image\n",
    "    n_C0 -- scalar, number of channels of the input\n",
    "    n_y -- scalar, number of classes\n",
    "        \n",
    "    Returns:\n",
    "    X -- placeholder for the data input, of shape [None, n_H0, n_W0, n_C0] and dtype \"float\"\n",
    "    Y -- placeholder for the input labels, of shape [None, n_y] and dtype \"float\"\n",
    "    \"\"\"\n",
    "\n",
    "    X = tf.placeholder(tf.float32, [None, n_H0, n_W0, n_C0])\n",
    "    Y = tf.placeholder(tf.float32, [None, n_H0*n_W0, n_y])\n",
    "    \n",
    "    return X, Y"
   ]
  },
  {
   "cell_type": "code",
   "execution_count": 5,
   "metadata": {
    "collapsed": true
   },
   "outputs": [],
   "source": [
    "def initialize_parameters():\n",
    "    \"\"\"\n",
    "    Initializes weight parameters to build a neural network with tensorflow. The shapes are:\n",
    "                        W1 : [3, 3, 3, 64] Weights, numpy array of shape (f, f, n_C_prev, n_C)\n",
    "                        ...\n",
    "                        f - filter size\n",
    "                        n_C_prev - number of channels of the output of the previous activation\n",
    "                        n_C - number of channels of the output of the current activation\n",
    "    Returns:\n",
    "    parameters -- a dictionary of tensors containing W1, W2, ...\n",
    "    \"\"\"\n",
    "    \n",
    "    W1 = tf.get_variable(\"W1\", [3, 3, 3, 64], initializer = tf.contrib.layers.xavier_initializer(seed = 0))\n",
    "    W2 = tf.get_variable(\"W2\", [3, 3, 64, 64], initializer = tf.contrib.layers.xavier_initializer(seed = 0))\n",
    "    W3 = tf.get_variable(\"W3\", [3, 3, 64, 128], initializer = tf.contrib.layers.xavier_initializer(seed = 0))\n",
    "    W4 = tf.get_variable(\"W4\", [3, 3, 128, 128], initializer = tf.contrib.layers.xavier_initializer(seed = 0))\n",
    "    W5 = tf.get_variable(\"W5\", [3, 3, 128, 256], initializer = tf.contrib.layers.xavier_initializer(seed = 0))\n",
    "    W6 = tf.get_variable(\"W6\", [3, 3, 256, 256], initializer = tf.contrib.layers.xavier_initializer(seed = 0))\n",
    "    W7 = tf.get_variable(\"W7\", [3, 3, 256, 256], initializer = tf.contrib.layers.xavier_initializer(seed = 0))\n",
    "    W8 = tf.get_variable(\"W8\", [3, 3, 256, 512], initializer = tf.contrib.layers.xavier_initializer(seed = 0))\n",
    "    W9 = tf.get_variable(\"W9\", [3, 3, 512, 512], initializer = tf.contrib.layers.xavier_initializer(seed = 0))\n",
    "    W10 = tf.get_variable(\"W10\", [3, 3, 512, 512], initializer = tf.contrib.layers.xavier_initializer(seed = 0))\n",
    "    \n",
    "    W11 = tf.get_variable(\"W11\", [3, 3, 512, 512], initializer = tf.contrib.layers.xavier_initializer(seed = 0))\n",
    "    W12 = tf.get_variable(\"W12\", [3, 3, 512, 512], initializer = tf.contrib.layers.xavier_initializer(seed = 0))\n",
    "    W13 = tf.get_variable(\"W13\", [3, 3, 512, 256], initializer = tf.contrib.layers.xavier_initializer(seed = 0))\n",
    "    W14 = tf.get_variable(\"W14\", [3, 3, 256, 256], initializer = tf.contrib.layers.xavier_initializer(seed = 0))\n",
    "    W15 = tf.get_variable(\"W15\", [3, 3, 256, 256], initializer = tf.contrib.layers.xavier_initializer(seed = 0))\n",
    "    W16 = tf.get_variable(\"W16\", [3, 3, 256, 128], initializer = tf.contrib.layers.xavier_initializer(seed = 0))\n",
    "    W17 = tf.get_variable(\"W17\", [3, 3, 128, 128], initializer = tf.contrib.layers.xavier_initializer(seed = 0))\n",
    "    W18 = tf.get_variable(\"W18\", [3, 3, 128,  64], initializer = tf.contrib.layers.xavier_initializer(seed = 0))\n",
    "    W19 = tf.get_variable(\"W19\", [3, 3, 64, 64], initializer = tf.contrib.layers.xavier_initializer(seed = 0))\n",
    "    W20 = tf.get_variable(\"W20\", [3, 3, 64, 12], initializer = tf.contrib.layers.xavier_initializer(seed = 0))\n",
    "\n",
    "    \n",
    "    parameters = {\"W1\": W1,\n",
    "                  \"W2\": W2,\n",
    "                  \"W3\": W3,\n",
    "                  \"W4\": W4,\n",
    "                  \"W5\": W5,\n",
    "                  \"W6\": W6,\n",
    "                  \"W7\": W7,\n",
    "                  \"W8\": W8,\n",
    "                  \"W9\": W9,\n",
    "                  \"W10\": W10,\n",
    "                  \"W11\": W11,\n",
    "                  \"W12\": W12,\n",
    "                  \"W13\": W13,\n",
    "                  \"W14\": W14,\n",
    "                  \"W15\": W15,\n",
    "                  \"W16\": W16,\n",
    "                  \"W17\": W17,\n",
    "                  \"W18\": W18,\n",
    "                  \"W19\": W19,\n",
    "                  \"W20\": W20}\n",
    "    \n",
    "    return parameters"
   ]
  },
  {
   "cell_type": "code",
   "execution_count": 6,
   "metadata": {
    "collapsed": true
   },
   "outputs": [],
   "source": [
    "def forward_propagation(X, parameters):\n",
    "    \"\"\"\n",
    "    Arguments:\n",
    "    X -- input dataset placeholder, of shape (input size, number of examples)\n",
    "    parameters -- python dictionary containing your parameters \"W1\", \"W2\", ...\n",
    "                  the shapes are given in initialize_parameters\n",
    "\n",
    "    Returns:\n",
    "    X -- the output of the last unit\n",
    "    \"\"\"\n",
    "    with tf.device('/device:GPU:0'):\n",
    "        # Retrieve the parameters from the dictionary \"parameters\" \n",
    "        W1 = parameters['W1']\n",
    "        W2 = parameters['W2']\n",
    "        W3 = parameters['W3']\n",
    "        W4 = parameters['W4']\n",
    "        W5 = parameters['W5']\n",
    "        W6 = parameters['W6']\n",
    "        W7 = parameters['W7']\n",
    "        W8 = parameters['W8']\n",
    "        W9 = parameters['W9']\n",
    "        W10 = parameters['W10']\n",
    "        W11 = parameters['W11']\n",
    "        W12 = parameters['W12']\n",
    "        W13 = parameters['W13']\n",
    "        W14 = parameters['W14']\n",
    "        W15 = parameters['W15']\n",
    "        W16 = parameters['W16']\n",
    "        W17 = parameters['W17']\n",
    "        W18 = parameters['W18']\n",
    "        W19 = parameters['W19']\n",
    "        W20 = parameters['W20']\n",
    "\n",
    "        # Encoder 1\n",
    "        X = tf.nn.conv2d(X, W1, strides = [1,1,1,1], padding = 'SAME')\n",
    "        X = tf.contrib.layers.batch_norm(X)\n",
    "        X = tf.nn.relu(X)  \n",
    "\n",
    "        X = tf.nn.conv2d(X, W2, strides = [1,1,1,1], padding = 'SAME')\n",
    "        X = tf.contrib.layers.batch_norm(X)\n",
    "        X = tf.nn.relu(X)\n",
    "        shape_decoder_4 = tf.shape(X)\n",
    "        X, ind1 = tf.nn.max_pool_with_argmax(X, ksize = [1,2,2,1], strides = [1,2,2,1], padding = 'VALID')\n",
    "        \n",
    "        # Encoder 2\n",
    "        X = tf.nn.conv2d(X, W3, strides = [1,1,1,1], padding = 'SAME')\n",
    "        X = tf.contrib.layers.batch_norm(X)\n",
    "        X = tf.nn.relu(X)\n",
    "\n",
    "        X = tf.nn.conv2d(X, W4, strides = [1,1,1,1], padding = 'SAME')\n",
    "        X = tf.contrib.layers.batch_norm(X)\n",
    "        X = tf.nn.relu(X)\n",
    "        shape_decoder_3 = tf.shape(X)\n",
    "        X, ind2 = tf.nn.max_pool_with_argmax(X, ksize = [1,2,2,1], strides = [1,2,2,1], padding = 'VALID')\n",
    "        \n",
    "        # Encoder 3\n",
    "        X = tf.nn.conv2d(X, W5, strides = [1,1,1,1], padding = 'SAME')\n",
    "        X = tf.contrib.layers.batch_norm(X)\n",
    "        X = tf.nn.relu(X) \n",
    "\n",
    "        X = tf.nn.conv2d(X, W6, strides = [1,1,1,1], padding = 'SAME')\n",
    "        X = tf.contrib.layers.batch_norm(X)\n",
    "        X = tf.nn.relu(X) \n",
    "\n",
    "        X = tf.nn.conv2d(X, W7, strides = [1,1,1,1], padding = 'SAME')\n",
    "        X = tf.contrib.layers.batch_norm(X)\n",
    "        X = tf.nn.relu(X)\n",
    "        shape_decoder_2 = tf.shape(X)\n",
    "        X, ind3 = tf.nn.max_pool_with_argmax(X, ksize = [1,2,2,1], strides = [1,2,2,1], padding = 'VALID')\n",
    "\n",
    "        # Encoder 4\n",
    "        X = tf.nn.conv2d(X, W8, strides = [1,1,1,1], padding = 'SAME')\n",
    "        X = tf.contrib.layers.batch_norm(X)\n",
    "        X = tf.nn.relu(X) \n",
    "\n",
    "        X = tf.nn.conv2d(X, W9, strides = [1,1,1,1], padding = 'SAME')\n",
    "        X = tf.contrib.layers.batch_norm(X)\n",
    "        X = tf.nn.relu(X)\n",
    "\n",
    "        X = tf.nn.conv2d(X, W10, strides = [1,1,1,1], padding = 'SAME')\n",
    "        X = tf.contrib.layers.batch_norm(X)\n",
    "        X = tf.nn.relu(X)\n",
    "        shape_decoder_1 = tf.shape(X)\n",
    "        X, ind4 = tf.nn.max_pool_with_argmax(X, ksize = [1,2,2,1], strides = [1,2,2,1], padding = 'VALID')\n",
    "\n",
    "        # Decoder 1\n",
    "        X = unpool_layer2x2_batch(X, ind4, 1)\n",
    "        X = tf.nn.conv2d(X, W11, strides = [1,1,1,1], padding = 'SAME')\n",
    "        X = tf.contrib.layers.batch_norm(X)\n",
    "        X = tf.nn.relu(X) \n",
    "\n",
    "        X = tf.nn.conv2d(X, W12, strides = [1,1,1,1], padding = 'SAME')\n",
    "        X = tf.contrib.layers.batch_norm(X)\n",
    "        X = tf.nn.relu(X)\n",
    "\n",
    "        X = tf.nn.conv2d(X, W13, strides = [1,1,1,1], padding = 'SAME')\n",
    "        X = tf.contrib.layers.batch_norm(X)\n",
    "        X = tf.nn.relu(X)\n",
    "\n",
    "        # Decoder 2\n",
    "        X = unpool_layer2x2_batch(X, ind3)\n",
    "        X = tf.nn.conv2d(X, W14, strides = [1,1,1,1], padding = 'SAME')\n",
    "        X = tf.contrib.layers.batch_norm(X)\n",
    "        X = tf.nn.relu(X) \n",
    "\n",
    "        X = tf.nn.conv2d(X, W15, strides = [1,1,1,1], padding = 'SAME')\n",
    "        X = tf.contrib.layers.batch_norm(X)\n",
    "        X = tf.nn.relu(X) \n",
    "\n",
    "        X = tf.nn.conv2d(X, W16, strides = [1,1,1,1], padding = 'SAME')\n",
    "        X = tf.contrib.layers.batch_norm(X)\n",
    "        X = tf.nn.relu(X) \n",
    "\n",
    "        # Decoder 3\n",
    "        X = unpool_layer2x2_batch(X, ind2)\n",
    "        X = tf.nn.conv2d(X, W17, strides = [1,1,1,1], padding = 'SAME')\n",
    "        X = tf.contrib.layers.batch_norm(X)\n",
    "        X = tf.nn.relu(X) \n",
    "\n",
    "        X = tf.nn.conv2d(X, W18, strides = [1,1,1,1], padding = 'SAME')\n",
    "        X = tf.contrib.layers.batch_norm(X)\n",
    "        X = tf.nn.relu(X) \n",
    "\n",
    "        # Decoder 4\n",
    "        X = unpool_layer2x2_batch(X, ind1)\n",
    "        X = tf.nn.conv2d(X, W19, strides = [1,1,1,1], padding = 'SAME')\n",
    "        X = tf.contrib.layers.batch_norm(X)\n",
    "        X = tf.nn.relu(X) \n",
    "\n",
    "        X = tf.nn.conv2d(X, W20, strides = [1,1,1,1], padding = 'SAME')\n",
    "        X = tf.contrib.layers.batch_norm(X)\n",
    "        X = tf.nn.softmax(X) \n",
    "        \n",
    "        X = tf.reshape(X, [tf.shape(X)[0], 360*480, 12])\n",
    "\n",
    "    return X"
   ]
  },
  {
   "cell_type": "code",
   "execution_count": 7,
   "metadata": {
    "collapsed": true
   },
   "outputs": [],
   "source": [
    "def compute_cost(Z3, Y):\n",
    "    \"\"\"  \n",
    "    Arguments:\n",
    "    Z3 -- output of forward propagation\n",
    "    Y -- \"true\" labels vector placeholder, same shape as Z3\n",
    "    \n",
    "    Returns:\n",
    "    cost - Tensor of the cost function\n",
    "    \"\"\"\n",
    "    cost = tf.reduce_mean(tf.nn.softmax_cross_entropy_with_logits(logits = Z3, labels = Y))\n",
    "    \n",
    "    return cost"
   ]
  },
  {
   "cell_type": "markdown",
   "metadata": {},
   "source": [
    "### Model"
   ]
  },
  {
   "cell_type": "code",
   "execution_count": 8,
   "metadata": {
    "collapsed": true
   },
   "outputs": [],
   "source": [
    "def model(X_train_filelist, Y_train_filelist, learning_rate = 0.009,\n",
    "              epochs = 100, minibatch_size = 64, print_cost = True, option = 'scratch'):\n",
    "\n",
    "    ops.reset_default_graph() # to be able to rerun the model without overwriting tf variables\n",
    "    num_of_classes = 12\n",
    "    (m, n_H0, n_W0, n_C0) = [len(X_train_filelist), 360, 480, 3]\n",
    "    costs = []\n",
    "    epoch_accuracy_list = []\n",
    "    iteration_accuracy_list = []\n",
    "\n",
    "    ##### Operations concerning minibatch size \n",
    "\n",
    "    all_minibatch_sizes = []\n",
    "\n",
    "    num_minibatches = int(m / minibatch_size) \n",
    "    total_num_minibatches = int(math.ceil(m / minibatch_size))\n",
    "    total_iters = total_num_minibatches * epochs\n",
    "\n",
    "    for n in range(0, num_minibatches):\n",
    "        all_minibatch_sizes.append(minibatch_size)\n",
    "\n",
    "    if num_minibatches != total_num_minibatches:\n",
    "        all_minibatch_sizes.append(m - (num_minibatches*minibatch_size))\n",
    "\n",
    "    #####\n",
    "\n",
    "    X, Y = create_placeholders(n_H0, n_W0, n_C0, num_of_classes)\n",
    "\n",
    "    parameters = initialize_parameters()\n",
    "\n",
    "    Z3 = forward_propagation(X, parameters)\n",
    "\n",
    "    # Cost function: Add cost function to tensorflow graph\n",
    "    cost = compute_cost(Z3, Y)\n",
    "\n",
    "    # Backpropagation: Define the tensorflow optimizer. SGD\n",
    "    optimizer = tf.train.MomentumOptimizer(learning_rate = learning_rate, momentum = 0.9).minimize(cost)\n",
    "\n",
    "    # Calculate the correct predictions\n",
    "    predict_op = tf.argmax(Z3, axis = 2)\n",
    "    correct_prediction = tf.equal(predict_op, tf.argmax(Y, axis = 2))\n",
    "    # Calculate accuracy\n",
    "    accuracy = tf.reduce_mean(tf.cast(correct_prediction, \"float\"))\n",
    "\n",
    "    # Initialize all the variables globally\n",
    "    init = tf.global_variables_initializer()\n",
    "    \n",
    "    # Save model\n",
    "    saver = tf.train.Saver()\n",
    "    \n",
    "    # Pretrained weights\n",
    "    W1 = parameters['W1']\n",
    "    W2 = parameters['W2']\n",
    "    W3 = parameters['W3']\n",
    "    W4 = parameters['W4']\n",
    "    W5 = parameters['W5']\n",
    "    W6 = parameters['W6']\n",
    "    W7 = parameters['W7']\n",
    "    W8 = parameters['W8']\n",
    "    W9 = parameters['W9']\n",
    "    W10 = parameters['W10']\n",
    "    \n",
    "    pretrained_variables_dict = {\"vgg_16/conv1/conv1_1/weights\": W1,\n",
    "                  \"vgg_16/conv1/conv1_2/weights\": W2,\n",
    "                  \"vgg_16/conv2/conv2_1/weights\": W3,\n",
    "                  \"vgg_16/conv2/conv2_2/weights\": W4,\n",
    "                  \"vgg_16/conv3/conv3_1/weights\": W5,\n",
    "                  \"vgg_16/conv3/conv3_2/weights\": W6,\n",
    "                  \"vgg_16/conv3/conv3_3/weights\": W7,\n",
    "                  \"vgg_16/conv4/conv4_1/weights\": W8,\n",
    "                  \"vgg_16/conv4/conv4_2/weights\": W9,\n",
    "                  \"vgg_16/conv4/conv4_3/weights\": W10}\n",
    "\n",
    "    pretrained_saver = tf.train.Saver(pretrained_variables_dict)\n",
    "    \n",
    "\n",
    "        # Start the session to compute the tensorflow graph\n",
    "    with tf.Session() as sess:\n",
    "        \n",
    "        # Run the initialization\n",
    "        if option == 'checkpoint':\n",
    "            saver.restore(sess, \"my_model.ckpt\")\n",
    "        elif option == 'pretrained':\n",
    "            sess.run(init)\n",
    "            pretrained_saver.restore(sess, \"vgg_16.ckpt\")\n",
    "            Z3 = forward_propagation(X, parameters)\n",
    "        else:\n",
    "            sess.run(init)\n",
    "            \n",
    "        # Do the training loop\n",
    "        for epoch in range(epochs):\n",
    "\n",
    "            minibatch_cost = 0.\n",
    "            print(\"Epoch %i started.\" % (epoch))\n",
    "\n",
    "            for k in range(0,total_num_minibatches):\n",
    "\n",
    "                # Load a minibatch\n",
    "                minibatch_X, minibatch_Y = load_minibatch(X_train_filelist, Y_train_filelist, k, minibatch_size)\n",
    "\n",
    "                # Run the session to execute the optimizer and the cost.\n",
    "                with tf.device('/device:GPU:0'):\n",
    "                    _ , temp_cost = sess.run([optimizer, cost], feed_dict={X: minibatch_X, Y: minibatch_Y})\n",
    "\n",
    "                minibatch_cost += temp_cost / num_minibatches\n",
    "                iteration_accuracy_list.append(accuracy.eval({X: minibatch_X, Y: minibatch_Y}))\n",
    "\n",
    "                # Print training progress\n",
    "                \n",
    "                completed_iters = epoch * total_num_minibatches + (k + 1)\n",
    "                percent_complete = (completed_iters * 100) / total_iters\n",
    "                sys.stdout.write(str(percent_complete)+'%\\r')\n",
    "                sys.stdout.flush()\n",
    "\n",
    "\n",
    "            epoch_accuracy = (sum([x*y for x,y in zip(iteration_accuracy_list, all_minibatch_sizes)]))/sum(all_minibatch_sizes)\n",
    "            iteration_accuracy_list = []\n",
    "\n",
    "            # Print the cost every epoch\n",
    "            if print_cost == True and epoch % 1 == 0:\n",
    "                print (\"Epoch %i finished. Cost: %f   Accuracy: %f    Total progress: %f%%\" % (epoch, minibatch_cost, epoch_accuracy, (epoch + 1)*100/epochs))\n",
    "\n",
    "            if print_cost == True and epoch % 1 == 0:\n",
    "                costs.append(minibatch_cost)\n",
    "                epoch_accuracy_list.append(epoch_accuracy)\n",
    "\n",
    "            # Save model\n",
    "            saver.save(sess, './my_model.ckpt')\n",
    "\n",
    "        # Plot the cost\n",
    "        plt.plot(np.squeeze(costs))\n",
    "        plt.ylabel('Cost')\n",
    "        plt.xlabel('Iterations (per tens)')\n",
    "        plt.title(\"Learning rate =\" + str(learning_rate))\n",
    "        plt.show()\n",
    "\n",
    "\n",
    "        # Calculate final accuracy\n",
    "        final_accuracy = epoch_accuracy_list[-1]\n",
    "        print(\"Final Accuracy:\", final_accuracy)\n",
    "\n",
    "    return X, Y, final_accuracy, parameters"
   ]
  },
  {
   "cell_type": "code",
   "execution_count": 57,
   "metadata": {
    "collapsed": true
   },
   "outputs": [],
   "source": [
    "def testing(X_test_filelist, Y_test_filelist, minibatch_size):\n",
    "\n",
    "    ops.reset_default_graph() # to be able to rerun the model without overwriting tf variables\n",
    "    num_of_classes = 12\n",
    "    (m, n_H0, n_W0, n_C0) = [len(X_test_filelist), 360, 480, 3]\n",
    "    batch_accuracy_list = []\n",
    "    batch_iou_list = []\n",
    "    \n",
    "    ##### Operations concerning minibatch size \n",
    "\n",
    "    all_minibatch_sizes = []\n",
    "\n",
    "    num_minibatches = int(m / minibatch_size) \n",
    "    total_num_minibatches = int(math.ceil(m / minibatch_size))\n",
    "    total_iters = total_num_minibatches * epochs\n",
    "\n",
    "    for n in range(0, num_minibatches):\n",
    "        all_minibatch_sizes.append(minibatch_size)\n",
    "\n",
    "    if num_minibatches != total_num_minibatches:\n",
    "        all_minibatch_sizes.append(m - (num_minibatches*minibatch_size))\n",
    "        \n",
    "    #####\n",
    "\n",
    "    # Initialize all the variables globally\n",
    "    init = tf.global_variables_initializer()\n",
    "    \n",
    "    # Start the session to compute the tensorflow graph\n",
    "    with tf.Session() as sess:\n",
    "        \n",
    "        X, Y = create_placeholders(n_H0, n_W0, n_C0, num_of_classes)\n",
    "        parameters = initialize_parameters()\n",
    "        Z3 = forward_propagation(X, parameters)\n",
    "        # Calculate the correct predictions\n",
    "        predict_op = tf.argmax(Z3, axis = 2)\n",
    "        correct_prediction = tf.equal(predict_op, tf.argmax(Y, axis = 2))\n",
    "        # Calculate accuracy\n",
    "        accuracy = tf.reduce_mean(tf.cast(correct_prediction, \"float\"))\n",
    "        # Mean IOU\n",
    "        meanIoU, confusionMatrix = tf.metrics.mean_iou(tf.argmax(Y, axis = 2), tf.argmax(Z3, axis = 2), num_of_classes)\n",
    "        \n",
    "        saver = tf.train.Saver()\n",
    "        saver.restore(sess, \"my_model.ckpt\")\n",
    "        sess.run(tf.local_variables_initializer())\n",
    "\n",
    "        for k in range(0, total_num_minibatches):\n",
    "\n",
    "            # Load a minibatch\n",
    "            minibatch_X, minibatch_Y = load_minibatch(X_test_filelist, Y_test_filelist, k, minibatch_size)\n",
    "\n",
    "            with tf.device('/device:GPU:0'):\n",
    "                batch_accuracy = accuracy.eval({X: minibatch_X, Y: minibatch_Y})\n",
    "                batch_accuracy_list.append(batch_accuracy)\n",
    "                batch_iou, _ = sess.run([meanIoU, confusionMatrix], feed_dict = {X: minibatch_X, Y: minibatch_Y})\n",
    "                batch_iou_list.append(batch_iou)\n",
    "\n",
    "                # Print progress\n",
    "                completed_iters = k + 1\n",
    "                percent_complete = (completed_iters * 100) / total_num_minibatches\n",
    "                sys.stdout.write(str(percent_complete)+'%\\r')\n",
    "                sys.stdout.flush()\n",
    "\n",
    "            test_accuracy = (sum([x*y for x,y in zip(batch_accuracy_list, all_minibatch_sizes)]))/sum(all_minibatch_sizes)\n",
    "            test_iou = (sum([x*y for x,y in zip(batch_iou_list, all_minibatch_sizes)]))/sum(all_minibatch_sizes)\n",
    "            \n",
    "        \n",
    "        print(\"Accuracy:\", test_accuracy)\n",
    "        print(\"Mean IoU:\", test_iou)\n",
    "\n",
    "    return test_accuracy, test_iou"
   ]
  },
  {
   "cell_type": "markdown",
   "metadata": {},
   "source": [
    "### Main"
   ]
  },
  {
   "cell_type": "code",
   "execution_count": 17,
   "metadata": {
    "collapsed": true
   },
   "outputs": [],
   "source": [
    "# Paths\n",
    "train_labeled_path = './trainannot'\n",
    "train_unlabeled_path = './train'\n",
    "test_labeled_path = './testannot'\n",
    "test_unlabeled_path = './test'\n",
    "\n",
    "# Define some parameters\n",
    "input_shape = (360, 480, 3)\n",
    "minibatch_size = 5\n",
    "epochs = 3\n",
    "learning_rate = 0.1"
   ]
  },
  {
   "cell_type": "code",
   "execution_count": 15,
   "metadata": {
    "collapsed": false
   },
   "outputs": [
    {
     "name": "stdout",
     "output_type": "stream",
     "text": [
      "Listing training dataset\n",
      "Listed\n"
     ]
    }
   ],
   "source": [
    "# Load dataset\n",
    "print(\"Listing training dataset\")\n",
    "X_train_filelist, Y_train_filelist = list_files(train_unlabeled_path, train_labeled_path)\n",
    "print(\"Listed\")"
   ]
  },
  {
   "cell_type": "code",
   "execution_count": 52,
   "metadata": {
    "collapsed": false
   },
   "outputs": [
    {
     "name": "stdout",
     "output_type": "stream",
     "text": [
      "INFO:tensorflow:Restoring parameters from my_model.ckpt\n",
      "Epoch 0 started.\n",
      "Epoch 0 finished. Cost: 2.117038   Accuracy: 0.577251    Total progress: 33.000000%\n",
      "Epoch 1 started.\n",
      "Epoch 1 finished. Cost: 2.112888   Accuracy: 0.581503    Total progress: 66.000000%\n",
      "Epoch 2 started.\n",
      "Epoch 2 finished. Cost: 2.109308   Accuracy: 0.585636    Total progress: 100.000000%\n"
     ]
    },
    {
     "data": {
      "image/png": "[encoded data removed]",
      "text/plain": [
       "<matplotlib.figure.Figure at 0x7f74bd9403d0>"
      ]
     },
     "metadata": {},
     "output_type": "display_data"
    },
    {
     "name": "stdout",
     "output_type": "stream",
     "text": [
      "Final Accuracy: 0.581463481329\n"
     ]
    }
   ],
   "source": [
    "# Train the model with pretrained weights from VGG-16\n",
    "X, Y, accuracy, parameters = model(X_train_filelist, Y_train_filelist, learning_rate, epochs, minibatch_size, option = 'checkpoint')"
   ]
  },
  {
   "cell_type": "code",
   "execution_count": 12,
   "metadata": {
    "collapsed": false
   },
   "outputs": [
    {
     "name": "stdout",
     "output_type": "stream",
     "text": [
      "Epoch 0 started.\n",
      "Epoch 0 finished. Cost: 2.479584   Accuracy: 0.912702    Total progress: 33.000000%\n",
      "Epoch 1 started.\n",
      "Epoch 1 finished. Cost: 2.457000   Accuracy: 0.913255    Total progress: 66.000000%\n",
      "Epoch 2 started.\n",
      "Epoch 2 finished. Cost: 2.434981   Accuracy: 0.914527    Total progress: 100.000000%\n"
     ]
    },
    {
     "data": {
      "image/png": "[encoded data removed]",
      "text/plain": [
       "<matplotlib.figure.Figure at 0x7f5c35e185d0>"
      ]
     },
     "metadata": {},
     "output_type": "display_data"
    },
    {
     "name": "stdout",
     "output_type": "stream",
     "text": [
      "Final Accuracy: 0.913494911459\n"
     ]
    }
   ],
   "source": [
    "# Train the model with random initialized weights, dataset is formed by 20 images\n",
    "X, Y, accuracy, parameters = model(X_train_filelist, Y_train_filelist, learning_rate, epochs, minibatch_size, option = 'scratch')"
   ]
  },
  {
   "cell_type": "code",
   "execution_count": 60,
   "metadata": {
    "collapsed": false
   },
   "outputs": [
    {
     "name": "stdout",
     "output_type": "stream",
     "text": [
      "Listing testing dataset\n",
      "Listed\n"
     ]
    }
   ],
   "source": [
    "# Load dataset\n",
    "print(\"Listing testing dataset\")\n",
    "X_test_filelist, Y_test_filelist = list_files(test_unlabeled_path, test_labeled_path)\n",
    "print(\"Listed\")"
   ]
  },
  {
   "cell_type": "code",
   "execution_count": 61,
   "metadata": {
    "collapsed": false
   },
   "outputs": [
    {
     "name": "stdout",
     "output_type": "stream",
     "text": [
      "INFO:tensorflow:Restoring parameters from my_model.ckpt\n",
      "Accuracy: 0.566849937258\n",
      "Mean IoU: 0.143763474796\n"
     ]
    }
   ],
   "source": [
    "accuracy = testing(X_test_filelist, Y_test_filelist, minibatch_size)"
   ]
  },
  {
   "cell_type": "code",
   "execution_count": null,
   "metadata": {
    "collapsed": true
   },
   "outputs": [],
   "source": []
  }
 ],
 "metadata": {
  "kernelspec": {
   "display_name": "Python 3",
   "language": "python",
   "name": "python3"
  },
  "language_info": {
   "codemirror_mode": {
    "name": "ipython",
    "version": 3
   },
   "file_extension": ".py",
   "mimetype": "text/x-python",
   "name": "python",
   "nbconvert_exporter": "python",
   "pygments_lexer": "ipython3",
   "version": "3.6.0"
  }
 },
 "nbformat": 4,
 "nbformat_minor": 2
}
